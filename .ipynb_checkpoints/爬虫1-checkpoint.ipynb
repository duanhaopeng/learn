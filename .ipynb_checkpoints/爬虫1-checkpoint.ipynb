{
 "cells": [
  {
   "cell_type": "code",
   "execution_count": 16,
   "metadata": {},
   "outputs": [
    {
     "name": "stdout",
     "output_type": "stream",
     "text": [
      "占位符的用法一:6\n",
      "占位符的用法二：你孩子都6岁了吧，咋这么6\n",
      "占位符还可以这么用6\n"
     ]
    }
   ],
   "source": [
    "# 字符串的格式化\n",
    "a = 6\n",
    "print(\"占位符的用法一:{0}\".format(a))\n",
    "print(\"占位符的用法二：你孩子都%s岁了吧，咋这么%d\"%(a, a))\n",
    "print(f\"占位符还可以这么用{a}\")"
   ]
  },
  {
   "cell_type": "code",
   "execution_count": null,
   "metadata": {},
   "outputs": [],
   "source": []
  }
 ],
 "metadata": {
  "kernelspec": {
   "display_name": "Python 3",
   "language": "python",
   "name": "python3"
  },
  "language_info": {
   "codemirror_mode": {
    "name": "ipython",
    "version": 3
   },
   "file_extension": ".py",
   "mimetype": "text/x-python",
   "name": "python",
   "nbconvert_exporter": "python",
   "pygments_lexer": "ipython3",
   "version": "3.7.0"
  }
 },
 "nbformat": 4,
 "nbformat_minor": 2
}
