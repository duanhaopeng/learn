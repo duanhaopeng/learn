{
 "cells": [
  {
   "cell_type": "markdown",
   "metadata": {},
   "source": [
    "+ # 标题(从大到小取决于#的数量)\n",
    "----\n",
    "   ## 二级标题\n",
    "   ### 三级标题\n",
    "   #### 四级标题\n",
    "---\n",
    "+ # 引用\n",
    "> 这是一个引用样式\n",
    "---\n",
    "+ # 段落以回车作为标记\n",
    "        你好  \n",
    "        陌生人\n",
    "---\n",
    "+ # 列表\n",
    "    使用 * _ + 加空格可以创建无序列表，使用不同的以表现层级关系\n",
    "    * 什么意思\n",
    "        + 什么意思\n",
    "           - 什么意思  \n",
    "   \n",
    "    \n",
    "    使用 数字+点+空格+内容 创建有序列表\n",
    "       \n",
    "1. 看\n",
    "    1. 明 \n",
    "        1. 白\n",
    "            1. 了\n",
    "                1. 吗  \n",
    "---                \n",
    "* # 链接\n",
    "    - 创建一种文字链接：[这里面是链接内容,链接到百度](https://www.baidu.com)  \n",
    "    + 使用<>会生成一个可点击的链接：<https://www.baidu.com>         \n",
    "---\n",
    "+ # 图像?\n",
    "    - ![这是图像](图像源地址找不到)\n",
    "---\n",
    "+ # 代码块?\n",
    "    - 方式1\n",
    "```\n",
    "    import pygame\n",
    "        def pygame_test\n",
    "```\n",
    "    - 方式2  \n",
    "    comsole.log(这是一个代码块);  \n",
    "+ # 字体样式\n",
    "    - 倾斜： *倾斜*\n",
    "    - 加粗： **加粗**\n",
    "    - 倾斜并加粗： ***倾斜并加粗***\n",
    "    - 文字删除线：~~文字删除线~~\n",
    "+ # 表格?\n",
    "    - 使用 - | 符号分割\n",
    "    - 使用 : 符号对齐  \n",
    "    表头1 | 表头二 | 表头三  \n",
    "    :---- |: ----- :| ---- :|\n",
    "    \n",
    "\n"
   ]
  },
  {
   "cell_type": "code",
   "execution_count": null,
   "metadata": {},
   "outputs": [],
   "source": []
  },
  {
   "cell_type": "code",
   "execution_count": null,
   "metadata": {},
   "outputs": [],
   "source": []
  }
 ],
 "metadata": {
  "kernelspec": {
   "display_name": "Python 3",
   "language": "python",
   "name": "python3"
  },
  "language_info": {
   "codemirror_mode": {
    "name": "ipython",
    "version": 3
   },
   "file_extension": ".py",
   "mimetype": "text/x-python",
   "name": "python",
   "nbconvert_exporter": "python",
   "pygments_lexer": "ipython3",
   "version": "3.7.0"
  }
 },
 "nbformat": 4,
 "nbformat_minor": 2
}
